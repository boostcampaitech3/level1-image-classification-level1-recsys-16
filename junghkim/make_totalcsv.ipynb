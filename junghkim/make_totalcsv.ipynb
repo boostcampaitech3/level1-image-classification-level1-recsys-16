{
 "cells": [
  {
   "cell_type": "code",
   "execution_count": 1,
   "id": "496610b8-dc45-4f2e-b611-c82ca0ba9099",
   "metadata": {},
   "outputs": [],
   "source": [
    "import os\n",
    "import pandas as pd"
   ]
  },
  {
   "cell_type": "code",
   "execution_count": 2,
   "id": "ea49348e-25d1-4cdc-9e0e-f7a20271917e",
   "metadata": {},
   "outputs": [],
   "source": [
    "train_dir = '/opt/ml/input/data/train/images'\n",
    "test_dir = '/opt/ml/input/data/eval/'"
   ]
  },
  {
   "cell_type": "code",
   "execution_count": 3,
   "id": "60c47a25-580d-4306-b99f-4c9cee304626",
   "metadata": {},
   "outputs": [],
   "source": [
    "train_df = pd.read_csv(\"/opt/ml/input/data/train/train.csv\")"
   ]
  },
  {
   "cell_type": "code",
   "execution_count": 4,
   "id": "ad7e8e36-5f8e-4bf4-bec7-3e88b4c82c1d",
   "metadata": {},
   "outputs": [],
   "source": [
    "train_df.loc[train_df['id']=='001498-1','gender'] = 'female'\n",
    "train_df.loc[train_df['id']=='004432','gender'] = 'female'\n",
    "train_df.loc[train_df['id']=='000010','gender'] = 'male'\n",
    "train_df.loc[train_df['id']=='000357','gender'] = 'male'\n",
    "train_df.loc[train_df['id']=='000664','gender'] = 'male'\n",
    "train_df.loc[train_df['id']=='000667','gender'] = 'male'\n",
    "train_df.loc[train_df['id']=='000725','gender'] = 'male'\n",
    "train_df.loc[train_df['id']=='000736','gender'] = 'male'\n",
    "train_df.loc[train_df['id']=='000767','gender'] = 'male'\n",
    "train_df.loc[train_df['id']=='000817','gender'] = 'male'\n",
    "train_df.loc[train_df['id']=='003780','gender'] = 'male'\n",
    "train_df.loc[train_df['id']=='003798','gender'] = 'male'\n",
    "train_df.loc[train_df['id']=='004281','gender'] = 'male'\n",
    "train_df.loc[train_df['id']=='006359','gender'] = 'male'\n",
    "train_df.loc[train_df['id']=='006360','gender'] = 'male'\n",
    "train_df.loc[train_df['id']=='006361','gender'] = 'male'\n",
    "train_df.loc[train_df['id']=='006362','gender'] = 'male'\n",
    "train_df.loc[train_df['id']=='006363','gender'] = 'male'\n",
    "train_df.loc[train_df['id']=='006364','gender'] = 'male'\n",
    "train_df.loc[train_df['id']=='006504','gender'] = 'male'"
   ]
  },
  {
   "cell_type": "code",
   "execution_count": 5,
   "id": "9911ae25-86bb-45d0-ae02-84c81ed6dbe7",
   "metadata": {},
   "outputs": [],
   "source": [
    "def age_group(x):\n",
    "    if x < 30:\n",
    "        return 0\n",
    "    elif x < 60:\n",
    "        return 1\n",
    "    else:\n",
    "        return 2\n",
    "    \n",
    "def gender_group(x):\n",
    "    if x == 'male':\n",
    "        return 0\n",
    "    else:\n",
    "        return 1"
   ]
  },
  {
   "cell_type": "code",
   "execution_count": null,
   "id": "b39ddd35-85ed-46ea-8d02-20d16374c030",
   "metadata": {},
   "outputs": [],
   "source": [
    "df = pd.DataFrame(None, columns = ['gender', 'age','maskOX','maskGB','class','path'])\n",
    "\n",
    "for index, line in enumerate(train_df.iloc):\n",
    "    for file in list(os.listdir(os.path.join(train_dir, line['path']))):\n",
    "        if file[0] == '.':\n",
    "            continue\n",
    "        if file.split('.')[0] == 'normal':\n",
    "            mask = 2\n",
    "        elif file.split('.')[0] == 'incorrect_mask':\n",
    "            mask = 1\n",
    "        else:\n",
    "            mask = 0\n",
    "        gender = 0 if line['gender'] == 'male' else 1\n",
    "        data = {\n",
    "            'gender' : gender_group(line['gender']),\n",
    "            'age' : age_group(line['age']),\n",
    "            'maskOX' : 0 if mask == 2 else 1, # 마스크 안쓰면 0, 쓰면 1\n",
    "            'maskGB' : None if mask == 2 else (0 if mask == 1 else 1), # 마스크 안쓰면 none, 마스크 비정상이면 0, 마스크 정상이면 1\n",
    "            'path': os.path.join(train_dir, line['path'], file),\n",
    "            'class': mask * 6 + gender * 3 + age_group(line['age'])\n",
    "        }\n",
    "        df = df.append(data, ignore_index=True)\n",
    "# 마스크 5:1:1\n",
    "df.to_csv('/opt/ml/code/total.csv', index=False)"
   ]
  },
  {
   "cell_type": "code",
   "execution_count": null,
   "id": "c3d22f19-1ced-4744-97e1-6a01d7e4073b",
   "metadata": {},
   "outputs": [],
   "source": [
    "df = pd.DataFrame(None, columns = ['gender', 'age','maskOX','maskGB','class','path'])\n",
    "\n",
    "for index, line in enumerate(train_df.iloc):\n",
    "    for file in list(os.listdir(os.path.join(train_dir, line['path']))):\n",
    "        if file[0] == '.':\n",
    "            continue\n",
    "        if file.split('.')[0] == 'normal':\n",
    "            mask = 2\n",
    "        elif file.split('.')[0] == 'incorrect_mask':\n",
    "            mask = 1\n",
    "        elif file.split('.')[0] == 'mask1':\n",
    "            mask = 0\n",
    "        else:\n",
    "            continue\n",
    "        gender = 0 if line['gender'] == 'male' else 1\n",
    "        data = {\n",
    "            'gender' : gender_group(line['gender']),\n",
    "            'age' : age_group(line['age']),\n",
    "            'maskOX' : 0 if mask == 2 else 1, # 마스크 안쓰면 0, 쓰면 1\n",
    "            'maskGB' : None if mask == 2 else (0 if mask == 1 else 1), # 마스크 안쓰면 none, 마스크 비정상이면 0, 마스크 정상이면 1\n",
    "            'path': os.path.join(train_dir, line['path'], file),\n",
    "            'class': mask * 6 + gender * 3 + age_group(line['age'])\n",
    "        }\n",
    "        df = df.append(data, ignore_index=True)\n",
    "# 마스크 1:1:1\n",
    "df.to_csv('/opt/ml/code/total_111.csv', index=False)"
   ]
  },
  {
   "cell_type": "code",
   "execution_count": null,
   "id": "a55e0901-1a9b-493c-bfa9-67f7a213e6fa",
   "metadata": {},
   "outputs": [],
   "source": [
    "df"
   ]
  },
  {
   "cell_type": "code",
   "execution_count": null,
   "id": "9e2611bc-7b9b-434b-8f65-c2b28b294994",
   "metadata": {},
   "outputs": [],
   "source": []
  },
  {
   "cell_type": "code",
   "execution_count": null,
   "id": "04b997af-4bb4-464e-aa6b-b7998fc316a3",
   "metadata": {},
   "outputs": [],
   "source": []
  }
 ],
 "metadata": {
  "kernelspec": {
   "display_name": "Python 3 (ipykernel)",
   "language": "python",
   "name": "python3"
  },
  "language_info": {
   "codemirror_mode": {
    "name": "ipython",
    "version": 3
   },
   "file_extension": ".py",
   "mimetype": "text/x-python",
   "name": "python",
   "nbconvert_exporter": "python",
   "pygments_lexer": "ipython3",
   "version": "3.8.5"
  }
 },
 "nbformat": 4,
 "nbformat_minor": 5
}
